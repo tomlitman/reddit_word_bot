{
 "cells": [
  {
   "cell_type": "code",
   "execution_count": 16,
   "metadata": {
    "collapsed": false
   },
   "outputs": [
    {
     "name": "stdout",
     "output_type": "stream",
     "text": [
      "Not normally a fan of 3/5 at the back but what if we tried City's system. Obvi quality not the same but a line up of:\n",
      "\n",
      "       Gabbi   Long/Austin\n",
      "\n",
      "Bert     Tadic      Boufal     Cedric\n",
      "\n",
      "           Romeu\n",
      "\n",
      "Hoedt      VVD      Yoshi/Stephens\n",
      "\n",
      "       Traffic cone \n",
      "\n",
      "the idea being get the ball to the wing backs much further down the pitch so they can whip it into the box first time where two forwards are waiting. I know how it went vs wolves and that's the last thing we want again but it might be worth a try.\n",
      "The last time we played a team after they fired De Boer we won. We have history on our side\n",
      "I've spent the past week questioning why anyone would ever appoint Roy Hodgson in a job relating to football ever again. Just realised that we're actually playing them this weekend, so now I think we're definitely going to lose\n",
      "It's times like these that I remember what it was truly like to be a Saints fan. Perpetual healthy pessimism.\n",
      "\n",
      "0-0 if we're lucky. \n",
      "Hate to be pessimistic, but this has loss written all over it.\n",
      "I'm just assuming we'll lose.\n",
      "\n",
      "That way I can't be hurt.\n",
      "Palace have big players in their team, with that and the added enthusiasm from their players to show Hodgson that they deserve to be playing, I think Palace will nick the win. And If Hodgson sticks to his previous approach as he did with Fulham/West Brom, then all their training would be focused on drills after drill to get them tightened up defensively. \n",
      "Can anyone seriously explain the clamour for 2 up top? We aren't exactly creating much right now, and putting another man up front is going to just make us even weaker defensively and creatively. Add to that the fact we haven't used 2 up top since Adkins (maybe now and then but hardly), I genuinely can't think of a reason to put another man up front. \n",
      "Has 0-0 written all over it however if one team was to snatch anything from the game I'd have to give it to Palace. \n",
      "\n",
      "I just want to see goals if im completely honest, if we concede 3 but score 3 I'll be happy, I just want some excitement. \n",
      "\n",
      "I predicted a loss in the prediction thread, but I'm cautiously optimistic about this. Our bad run can't go on forever, right? We know Pell isn't totally incompetent based off his past achievements with Alaves and Valencia.\n",
      "\n",
      "On a completely unrelated note, bring back Cortese. He left because of a disagreement with Katharina, rumoured to be because she didn't want to spend too much money. The new owners seem to be a little more willing to spend based on their reluctance to sell VVD.\n",
      "I've put 2-0 to us in the prediction thread, I can never not back us to win, but I don't genuinely think that... we lost 3-0 when Palace were on an awful run last year....\n",
      "Lawro reckons we'll lose, so we got that going for us, which is nice\n",
      "Southampton vs Hodgson? Gotta be 0-0.\n",
      "Palace have lost 4 games in a row and not scored in any of them... so how much are we going to lose by, and how disappointed are we going to be when we don't score?  \n",
      "\n",
      "\n",
      "Pellegrino's press conference had a few interesting points, about Virgil as Captain (that he's basically not Captain in Pellegrino's view right now), but avoided the question of what the \"Pellegrino's\" Southampton will look like and how long that'll take. I was slightly worried when he spoke about us being pressed and it being difficult for us... that's what he's there to sort out, and also to actually make us press - this would be a perfect chance to go out and force our game on the opposition as they'll (hopefully) be in a bit of a shambles following De Boer's exit and whatnot.\n"
     ]
    }
   ],
   "source": [
    "import praw\n",
    "\n",
    "reddit = praw.Reddit(client_id='10f6M8u6wLvIiw',\n",
    "                     client_secret='vv7nmiB8qdIneB5CzoILNan7-TM',\n",
    "                     user_agent='Mac OS:WordBotv0.1 (by /u/J_Dymond)',\n",
    "                     username='word_bot',\n",
    "                     password='nibba123!')\n",
    "\n",
    "subreddit = reddit.subreddit('SaintsFC')\n",
    "\n",
    "#for submission in subreddit.hot(limit=10):\n",
    "#    print(submission.title)  # Output: the submission's title\n",
    "#    print(submission.score)  # Output: the submission's score\n",
    "#    print(submission.id)     # Output: the submission's ID\n",
    "#    print(submission.url) \n",
    "    \n",
    "submission = reddit.submission(id='708wzq')\n",
    "submission.comment_sort = 'new'\n",
    "for top_level_comment in submission.comments:\n",
    "    print(top_level_comment.body)\n",
    "\n"
   ]
  }
 ],
 "metadata": {
  "kernelspec": {
   "display_name": "Python [Root]",
   "language": "python",
   "name": "Python [Root]"
  },
  "language_info": {
   "codemirror_mode": {
    "name": "ipython",
    "version": 3
   },
   "file_extension": ".py",
   "mimetype": "text/x-python",
   "name": "python",
   "nbconvert_exporter": "python",
   "pygments_lexer": "ipython3",
   "version": "3.5.2"
  }
 },
 "nbformat": 4,
 "nbformat_minor": 0
}
